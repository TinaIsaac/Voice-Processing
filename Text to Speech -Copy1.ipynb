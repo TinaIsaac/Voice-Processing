{
 "cells": [
  {
   "cell_type": "code",
   "execution_count": 1,
   "metadata": {},
   "outputs": [
    {
     "name": "stdout",
     "output_type": "stream",
     "text": [
      "Requirement already satisfied: pyttsx3 in c:\\users\\dell\\anaconda3\\lib\\site-packages (2.90)\n",
      "Requirement already satisfied: pywin32; platform_system == \"Windows\" in c:\\users\\dell\\anaconda3\\lib\\site-packages (from pyttsx3) (227)\n",
      "Requirement already satisfied: pypiwin32; platform_system == \"Windows\" in c:\\users\\dell\\anaconda3\\lib\\site-packages (from pyttsx3) (223)\n",
      "Requirement already satisfied: comtypes; platform_system == \"Windows\" in c:\\users\\dell\\anaconda3\\lib\\site-packages (from pyttsx3) (1.1.7)\n",
      "Note: you may need to restart the kernel to use updated packages.\n"
     ]
    }
   ],
   "source": [
    "pip install pyttsx3\n"
   ]
  },
  {
   "cell_type": "code",
   "execution_count": 1,
   "metadata": {},
   "outputs": [
    {
     "name": "stdout",
     "output_type": "stream",
     "text": [
      "Welcome to the Text-to-Speech Converter!\n",
      "Enter the text to convert to speech (or 'exit' to quit): Good Morning !! have a blessed day. \n",
      "\n",
      "Processing...\n",
      "Speech generated and played in 4.01 seconds.\n",
      "\n",
      "Do you want to hear the text again? (yes/no): yes\n",
      "Enter the text to convert to speech (or 'exit' to quit): Good Morning !! have a blessed day. \n",
      "\n",
      "Processing...\n",
      "Speech generated and played in 3.46 seconds.\n",
      "\n",
      "Do you want to hear the text again? (yes/no): no\n",
      "Thank you for using the Text-to-Speech Converter!\n"
     ]
    }
   ],
   "source": [
    "import pyttsx3\n",
    "import time\n",
    "\n",
    "def text_to_speech(text):\n",
    "    engine = pyttsx3.init()\n",
    "    engine.say(text)\n",
    "    engine.runAndWait()\n",
    "\n",
    "def main():\n",
    "    print(\"Welcome to the Text-to-Speech Converter!\")\n",
    "    while True:\n",
    "        input_text = input(\"Enter the text to convert to speech (or 'exit' to quit): \")\n",
    "        if input_text.lower() == 'exit':\n",
    "            print(\"Thank you for using the Text-to-Speech Converter!\")\n",
    "            break\n",
    "        \n",
    "        print(\"\\nProcessing...\")\n",
    "        start_time = time.time()\n",
    "        text_to_speech(input_text)\n",
    "        end_time = time.time()\n",
    "        \n",
    "        print(\"Speech generated and played in {:.2f} seconds.\".format(end_time - start_time))\n",
    "        \n",
    "        replay = input(\"\\nDo you want to hear the text again? (yes/no): \")\n",
    "        if replay.lower() != 'yes':\n",
    "            print(\"Thank you for using the Text-to-Speech Converter!\")\n",
    "            break\n",
    "\n",
    "if __name__ == \"__main__\":\n",
    "    main()\n",
    "\n"
   ]
  },
  {
   "cell_type": "code",
   "execution_count": null,
   "metadata": {},
   "outputs": [],
   "source": []
  }
 ],
 "metadata": {
  "kernelspec": {
   "display_name": "Python 3",
   "language": "python",
   "name": "python3"
  },
  "language_info": {
   "codemirror_mode": {
    "name": "ipython",
    "version": 3
   },
   "file_extension": ".py",
   "mimetype": "text/x-python",
   "name": "python",
   "nbconvert_exporter": "python",
   "pygments_lexer": "ipython3",
   "version": "3.8.5"
  }
 },
 "nbformat": 4,
 "nbformat_minor": 4
}
